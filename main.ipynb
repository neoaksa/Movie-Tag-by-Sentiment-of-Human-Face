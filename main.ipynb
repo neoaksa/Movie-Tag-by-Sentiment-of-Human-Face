{
 "cells": [
  {
   "cell_type": "code",
   "execution_count": 1,
   "metadata": {
    "collapsed": true
   },
   "outputs": [
    {
     "ename": "TypeError",
     "evalue": "Required argument 'outImage' (pos 3) not found",
     "traceback": [
      "\u001b[0;31m---------------------------------------------------------------------------\u001b[0m",
      "\u001b[0;31mTypeError\u001b[0m                                 Traceback (most recent call last)",
      "\u001b[0;32m<ipython-input-1-0889f9b4e985>\u001b[0m in \u001b[0;36m<module>\u001b[0;34m()\u001b[0m\n\u001b[1;32m     49\u001b[0m     \u001b[0msift\u001b[0m \u001b[0;34m=\u001b[0m \u001b[0mcv2\u001b[0m\u001b[0;34m.\u001b[0m\u001b[0mxfeatures2d\u001b[0m\u001b[0;34m.\u001b[0m\u001b[0mSIFT_create\u001b[0m\u001b[0;34m(\u001b[0m\u001b[0;34m)\u001b[0m\u001b[0;34m\u001b[0m\u001b[0m\n\u001b[1;32m     50\u001b[0m     \u001b[0mkp\u001b[0m \u001b[0;34m=\u001b[0m \u001b[0msift\u001b[0m\u001b[0;34m.\u001b[0m\u001b[0mdetect\u001b[0m\u001b[0;34m(\u001b[0m\u001b[0mcrop_img\u001b[0m\u001b[0;34m,\u001b[0m\u001b[0;32mNone\u001b[0m\u001b[0;34m)\u001b[0m\u001b[0;34m\u001b[0m\u001b[0m\n\u001b[0;32m---> 51\u001b[0;31m     \u001b[0mcrop_img\u001b[0m\u001b[0;34m=\u001b[0m\u001b[0mcv2\u001b[0m\u001b[0;34m.\u001b[0m\u001b[0mdrawKeypoints\u001b[0m\u001b[0;34m(\u001b[0m\u001b[0mcrop_img\u001b[0m\u001b[0;34m,\u001b[0m\u001b[0mkp\u001b[0m\u001b[0;34m)\u001b[0m\u001b[0;34m\u001b[0m\u001b[0m\n\u001b[0m\u001b[1;32m     52\u001b[0m     \u001b[0;31m# plot face\u001b[0m\u001b[0;34m\u001b[0m\u001b[0;34m\u001b[0m\u001b[0m\n\u001b[1;32m     53\u001b[0m     \u001b[0mcv2\u001b[0m\u001b[0;34m.\u001b[0m\u001b[0mimshow\u001b[0m\u001b[0;34m(\u001b[0m\u001b[0mdic_class\u001b[0m\u001b[0;34m[\u001b[0m\u001b[0mkey\u001b[0m\u001b[0;34m]\u001b[0m\u001b[0;34m,\u001b[0m\u001b[0mcrop_img\u001b[0m\u001b[0;34m)\u001b[0m\u001b[0;34m\u001b[0m\u001b[0m\n",
      "\u001b[0;31mTypeError\u001b[0m: Required argument 'outImage' (pos 3) not found"
     ],
     "output_type": "error"
    }
   ],
   "source": [
    "import os\n",
    "import cv2\n",
    "import numpy as np\n",
    "from sklearn.neural_network import MLPClassifier\n",
    "from sklearn.model_selection import train_test_split\n",
    "from sklearn.metrics import accuracy_score\n",
    "from sklearn.metrics import confusion_matrix\n",
    "from sklearn.externals import joblib\n",
    "\n",
    "def YtoOutput(y):\n",
    "    output = np.zeros(shape=(1,8))\n",
    "    output[0,int(y)] = 1.0\n",
    "    return output\n",
    "\n",
    "\n",
    "# read the file of image and classification\n",
    "image_path = \"/media/d/human face/cohn-kanade-images/\"\n",
    "class_path = \"/home/jie/Documents/Emotion/\"\n",
    "\n",
    "# read motion files\n",
    "# dictionary for saving classification corresponding image path\n",
    "dic_class = {}\n",
    "for root, dictionaries, files in os.walk(class_path):\n",
    "    for file in files:\n",
    "        path = os.path.join(root,file)\n",
    "        with open(path, \"r\", encoding=\"utf-8\") as newfile:\n",
    "            txtdata = newfile.read()\n",
    "            # set the classification to dictionary\n",
    "            dic_class[path[:-12]+\".png\"] = txtdata[3]\n",
    "\n",
    "# trained face classifier\n",
    "face_cascade = cv2.CascadeClassifier('/home/jie/taoj@mail.gvsu.edu/GitHub/opencv/haarcascade_frontalface_default.xml')\n",
    "x = np.empty((0,40000),dtype=np.float64)\n",
    "y = np.empty((0,1))\n",
    "for key, item in dic_class.items():\n",
    "    img_files = image_path + key[len(class_path):]\n",
    "    # read img files\n",
    "    img = cv2.imread(img_files)\n",
    "    # find the face and resize to 200*200 pixels\n",
    "    gray = cv2.cvtColor(img,cv2.COLOR_BGR2GRAY)\n",
    "    faces = face_cascade.detectMultiScale(gray, 1.3, 5)\n",
    "    for (x_pix, y_pix, w, h) in faces:\n",
    "        # crop the face from picture\n",
    "        crop_img = gray[y_pix:y_pix + h, x_pix:x_pix + w]\n",
    "        crop_img = cv2.resize(crop_img,(200,200))\n",
    "    # feature extraction\n",
    "    # 1. SIFT \n",
    "    # need to run \"pip install opencv-contrib-python\" if missing xfeature2d\n",
    "    sift = cv2.xfeatures2d.SIFT_create()\n",
    "    kp = sift.detect(crop_img,None)\n",
    "    crop_img=cv2.drawKeypoints(crop_img,kp)\n",
    "    # plot face\n",
    "    cv2.imshow(dic_class[key],crop_img)\n",
    "    k = cv2.waitKey(30) & 0xff\n",
    "    if k == 27:\n",
    "        break\n",
    "    # normalization\n",
    "    crop_img = crop_img / 255\n",
    "    # print(len(crop_img.flatten()))\n",
    "    x = np.vstack((x, crop_img.flatten()))\n",
    "    y = np.vstack((y, dic_class[key]))\n",
    "\n",
    "cv2.destroyAllWindows()\n",
    "y_tag = [YtoOutput(item) for item in y]\n",
    "y_tag = np.vstack(y_tag)\n",
    "np.save(\"/home/jie/Documents/x.npy\",x)\n",
    "np.save(\"/home/jie/Documents/y.npy\",y_tag)\n",
    "print(\"saved!\")"
   ]
  },
  {
   "cell_type": "code",
   "execution_count": 5,
   "metadata": {},
   "outputs": [
    {
     "name": "stdout",
     "output_type": "stream",
     "text": [
      "Iteration 1, loss = 7.10263196\n"
     ]
    },
    {
     "name": "stdout",
     "output_type": "stream",
     "text": [
      "Iteration 2, loss = 5.30258759\n"
     ]
    },
    {
     "name": "stdout",
     "output_type": "stream",
     "text": [
      "Iteration 3, loss = 3.88571137\n"
     ]
    },
    {
     "name": "stdout",
     "output_type": "stream",
     "text": [
      "Iteration 4, loss = 3.27552451\n"
     ]
    },
    {
     "name": "stdout",
     "output_type": "stream",
     "text": [
      "Iteration 5, loss = 3.89989423\n"
     ]
    },
    {
     "name": "stdout",
     "output_type": "stream",
     "text": [
      "Iteration 6, loss = 3.35214728\n"
     ]
    },
    {
     "name": "stdout",
     "output_type": "stream",
     "text": [
      "Iteration 7, loss = 3.46569762\nTraining loss did not improve more than tol=0.000100 for two consecutive epochs. Stopping.\n"
     ]
    },
    {
     "name": "stdout",
     "output_type": "stream",
     "text": [
      "0.18292682926829268\n"
     ]
    }
   ],
   "source": [
    "\n",
    "x = np.load(\"/home/jie/Documents/x.npy\")\n",
    "y = np.load(\"/home/jie/Documents/y.npy\")\n",
    "# split training and validation dataset\n",
    "x_train, x_test, y_train, y_test = train_test_split(x, y, test_size=0.25, random_state=27)\n",
    "clf = MLPClassifier(hidden_layer_sizes=(100,100,100), max_iter=100,learning_rate=\"adaptive\",\n",
    "                    learning_rate_init=0.1,momentum=0.9,activation=\"logistic\",\n",
    "                     solver='adam', verbose=True,  random_state=10, batch_size=10)\n",
    "\n",
    "clf.fit(x_train, y_train)\n",
    "joblib.dump(clf, '/home/jie/Documents/clf.pkl')\n",
    "\n",
    "# clf = joblib.load('/home/jie/Documents/clf.pkl')\n",
    "y_pred = clf.predict(x_test)\n",
    "print(accuracy_score(y_test, y_pred))\n",
    "\n"
   ]
  },
  {
   "cell_type": "code",
   "execution_count": null,
   "metadata": {},
   "outputs": [],
   "source": []
  }
 ],
 "metadata": {
  "kernelspec": {
   "display_name": "Python 2",
   "language": "python",
   "name": "python2"
  },
  "language_info": {
   "codemirror_mode": {
    "name": "ipython",
    "version": 2
   },
   "file_extension": ".py",
   "mimetype": "text/x-python",
   "name": "python",
   "nbconvert_exporter": "python",
   "pygments_lexer": "ipython2",
   "version": "2.7.6"
  }
 },
 "nbformat": 4,
 "nbformat_minor": 0
}
